{
 "cells": [
  {
   "cell_type": "code",
   "execution_count": 1,
   "metadata": {},
   "outputs": [],
   "source": [
    "# import  Libraries\n",
    "\n",
    "import pandas as pd\n",
    "import requests\n",
    "import seaborn as sns\n",
    "import matplotlib.pyplot as plt\n",
    "import plotly.express as px"
   ]
  },
  {
   "cell_type": "code",
   "execution_count": 2,
   "metadata": {},
   "outputs": [],
   "source": [
    "# Load data\n",
    "def load_data(source: str):\n",
    "    if source == \"local\":\n",
    "        df = pd.read_csv(\"data/benin-malanville.csv\")\n",
    "        df[\"Timestamp\"] = pd.to_datetime(df[\"Timestamp\"])  # Ensure Timestamp is in datetime format\n",
    "        return df\n",
    "    else:\n",
    "        raise ValueError(\"Invalid data source\")"
   ]
  },
  {
   "cell_type": "code",
   "execution_count": 4,
   "metadata": {},
   "outputs": [],
   "source": [
    "\n",
    "# Generate summary statistics\n",
    "def summary_stats(df):\n",
    "    return df.describe()\n",
    "\n",
    "# Filter data based on processed column value\n",
    "def filter_data(df, threshold):\n",
    "    df[\"processed_column\"] = pd.to_numeric(df[\"GHI\"] * 0.1 , errors=\"coerce\")  # Convert to numeric\n",
    "    return df[df[\"processed_column\"] < threshold]"
   ]
  },
  {
   "cell_type": "code",
   "execution_count": null,
   "metadata": {},
   "outputs": [],
   "source": []
  }
 ],
 "metadata": {
  "kernelspec": {
   "display_name": ".venv",
   "language": "python",
   "name": "python3"
  },
  "language_info": {
   "codemirror_mode": {
    "name": "ipython",
    "version": 3
   },
   "file_extension": ".py",
   "mimetype": "text/x-python",
   "name": "python",
   "nbconvert_exporter": "python",
   "pygments_lexer": "ipython3",
   "version": "3.11.5"
  }
 },
 "nbformat": 4,
 "nbformat_minor": 2
}
